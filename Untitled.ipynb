{
 "cells": [
  {
   "cell_type": "code",
   "execution_count": 5,
   "id": "00386209",
   "metadata": {},
   "outputs": [],
   "source": [
    "import nltk\n",
    "from nltk.corpus import stopwords\n",
    "from nltk.tokenize import word_tokenize, sent_tokenize"
   ]
  },
  {
   "cell_type": "code",
   "execution_count": 4,
   "id": "4c12c1db",
   "metadata": {},
   "outputs": [
    {
     "name": "stdout",
     "output_type": "stream",
     "text": [
      "Collecting nltk\n",
      "  Downloading nltk-3.8-py3-none-any.whl (1.5 MB)\n",
      "Requirement already satisfied: joblib in c:\\users\\lenovo\\appdata\\local\\programs\\python\\python39\\lib\\site-packages (from nltk) (1.1.0)\n",
      "Requirement already satisfied: tqdm in c:\\users\\lenovo\\appdata\\local\\programs\\python\\python39\\lib\\site-packages (from nltk) (4.64.1)\n",
      "Collecting regex>=2021.8.3\n",
      "  Downloading regex-2022.10.31-cp39-cp39-win_amd64.whl (267 kB)\n",
      "Requirement already satisfied: click in c:\\users\\lenovo\\appdata\\local\\programs\\python\\python39\\lib\\site-packages (from nltk) (8.0.3)\n",
      "Requirement already satisfied: colorama in c:\\users\\lenovo\\appdata\\local\\programs\\python\\python39\\lib\\site-packages (from click->nltk) (0.4.4)\n",
      "Installing collected packages: regex, nltk\n",
      "Successfully installed nltk-3.8 regex-2022.10.31\n"
     ]
    },
    {
     "name": "stderr",
     "output_type": "stream",
     "text": [
      "WARNING: You are using pip version 21.3.1; however, version 22.3.1 is available.\n",
      "You should consider upgrading via the 'c:\\users\\lenovo\\appdata\\local\\programs\\python\\python39\\python.exe -m pip install --upgrade pip' command.\n"
     ]
    }
   ],
   "source": [
    "!pip install nltk"
   ]
  },
  {
   "cell_type": "code",
   "execution_count": 34,
   "id": "09a4d6e6",
   "metadata": {},
   "outputs": [],
   "source": [
    "txt=\"What is book?\"\n",
    "Knowledge=[\"define\",\"who\",\"when\",\"where\",\"quote\",\"name\",\"identify\",\"label\"]\n",
    "Comprehension=[\"what\",\"differentiate\",\"distinguish\",\"describe\",\"summarize\",\"discuss\",\"predict\",\"list\",\"contrast\"]\n",
    "Application=[\"Demonstrate\",\"calculate\",\"solve\",\"illustrate\",\"examine\",\"test\",\"classify\"]\n",
    "Analysis=[\"Analyse\",\"explain\",\"classify\",\"connect\",\"infer\",\"probe\"]\n",
    "Evaluation=[\"Access\",\"rank\",\"grade\",\"support\",\"conclude\",\"select\",\"measure\",\"convince\"]\n",
    "Creativity=[\"Design\",\"innovate\",\"hypothesise\",\"conceive\",\"craft\",\"compose\",\"invent\"]\n",
    "txt1=txt.lower()"
   ]
  },
  {
   "cell_type": "code",
   "execution_count": 35,
   "id": "707b349f",
   "metadata": {},
   "outputs": [
    {
     "data": {
      "text/plain": [
       "['what', 'is', 'book?']"
      ]
     },
     "execution_count": 35,
     "metadata": {},
     "output_type": "execute_result"
    }
   ],
   "source": [
    "lst=list(txt1.split(\" \"))\n",
    "lst"
   ]
  },
  {
   "cell_type": "code",
   "execution_count": 36,
   "id": "d13413b0",
   "metadata": {},
   "outputs": [
    {
     "name": "stdout",
     "output_type": "stream",
     "text": [
      "Question is of Comprehension Level\n"
     ]
    }
   ],
   "source": [
    "question_word=lst[0]\n",
    "if(question_word in Knowledge):\n",
    "    print(\"Question is of Knowledge Level\")\n",
    "if(question_word in Comprehension):\n",
    "    print(\"Question is of Comprehension Level\")\n",
    "if(question_word in Application):\n",
    "    print(\"Question is of Application Level\")\n",
    "if(question_word in Analysis):\n",
    "    print(\"Question is of Analysis Level\")\n",
    "if(question_word in Evaluation):\n",
    "    print(\"Question is of Evaluation Level\")\n",
    "if(question_word in Creativity):\n",
    "    print(\"Question is of Creativity Level\")"
   ]
  },
  {
   "cell_type": "code",
   "execution_count": 37,
   "id": "c2e13010",
   "metadata": {},
   "outputs": [
    {
     "name": "stdout",
     "output_type": "stream",
     "text": [
      "[('What', 'WP'), ('book', 'NN'), ('?', '.')]\n"
     ]
    }
   ],
   "source": [
    "tokenized = sent_tokenize(txt)\n",
    "for i in tokenized:\n",
    "    wordsList = nltk.word_tokenize(i)\n",
    "    wordsList = [w for w in wordsList if not w in stop_words]\n",
    "    tagged = nltk.pos_tag(wordsList)\n",
    " \n",
    "    print(tagged)"
   ]
  },
  {
   "cell_type": "code",
   "execution_count": null,
   "id": "272a21ca",
   "metadata": {},
   "outputs": [],
   "source": []
  }
 ],
 "metadata": {
  "kernelspec": {
   "display_name": "Python 3 (ipykernel)",
   "language": "python",
   "name": "python3"
  },
  "language_info": {
   "codemirror_mode": {
    "name": "ipython",
    "version": 3
   },
   "file_extension": ".py",
   "mimetype": "text/x-python",
   "name": "python",
   "nbconvert_exporter": "python",
   "pygments_lexer": "ipython3",
   "version": "3.9.5"
  }
 },
 "nbformat": 4,
 "nbformat_minor": 5
}
