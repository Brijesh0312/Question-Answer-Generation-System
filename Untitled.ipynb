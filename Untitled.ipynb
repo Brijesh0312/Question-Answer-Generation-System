{
 "cells": [
  {
   "cell_type": "code",
   "execution_count": 1,
   "id": "7464884e",
   "metadata": {},
   "outputs": [],
   "source": [
    "file = open(\"NCERT_CHEM.txt\", \"r\",errors=\"ignore\")\n",
    "text=file.read()"
   ]
  },
  {
   "cell_type": "code",
   "execution_count": 2,
   "id": "d5b78a56",
   "metadata": {},
   "outputs": [
    {
     "name": "stdout",
     "output_type": "stream",
     "text": [
      "From our earlier studies, we know that liquids and gases are called fluids because of their ability to flow. The fluidity in both of these states is due to the fact that the molecules are free to move about. On the contrary, the constituent particles in solids have fixed positions and can only oscillate about their mean positions. This explains the rigidity in solids. These properties depend upon the nature of constituent particles and the binding forces operating between them. The correlation between structure and properties helps in the discovery of new solid materials with desired properties. For example, carbon nanotubes are new materials that have potential to provide material that are tougher than steel, lighter than aluminium and have more conductive property than copper. Such materials may play an expanding role in future development of science and society. Some other materials which are expected to play an important role in future are high temperature superconductors, magnetic materials, biodegradable polymers for packaging, biocompliant solids for surgical implants, etc. Thus, the study of this state becomes more important in the present scenario. In this Unit, we shall discuss different possible arrangements of particles resulting in several types of structures and explore why different arrangements of structural units lend different properties to solids. We will also learn how these properties get modified due to the structural imperfections or by the presence of impurities in minute amounts.\n",
      "In Class XI you have learnt that matter can exist in three states namely, solid, liquid and gas. Under a given set of conditions of temperature and pressure, which of these would be the most stable state of a given substance depends upon the net effect of two opposing factors. These are intermolecular forces which tend to keep the molecules (or atoms or ions) closer, and the thermal energy, which tends to keep them apart by making them move faster. At sufficiently low temperature, the thermal energy is low and intermolecular forces bring them so close that they cling to one another and occupy fixed positions. These can still oscillate about their mean positions and the substance exists in solid state. The following are the characteristic properties of the solid state: (i) They have definite mass, volume and shape. (ii) Intermolecular distances are short. (iii) Intermolecular forces are strong. (iv) Their constituent particles (atoms, molecules or ions) have fixed positions and can only oscillate about their mean positions. (v) They are incompressible and rigid.\n",
      "\n",
      "Solids can be classified as crystalline or amorphous on the basis of the nature of order present in the arrangement of their constituent particles. A crystalline solid usually consists of a large number of small crystals, each of them having a definite characteristic geometrical shape. The arrangement of constituent particles (atoms, molecules or ions) in a crystal is ordered and repetitive in three dimensions. If we observe the pattern in one region of the crystal, we can predict accurately the position of particles in any other region of the crystal however far they may be from the place of observation. Thus, crystal has a long range order which means that there is a regular pattern of arrangement of particles which repeats itself periodically over the entire crystal. Sodium chloride and quartz are typical examples of crystalline solids. Glass, rubber and many plastics do not form crystals when their liquids solidify on cooling. These are called amorphous solids. The term amorphous comes from the Greek word amorphos, meaning no form.The arrangement of constituent particles (atoms, molecules or ions) in such a solid has only short range order. In such an arrangement, a regular and periodically repeating pattern is observed over short distances only. Regular patterns are scattered and in between the arrangement is disordered. The structures of quartz (crystalline) and quartz glass (amorphous) are shown in Fig. 1.1 (a) and (b) respectively. While the two structures are almost identical, yet in the case of amorphous quartz glass there is no long range order. The structure of amorphous solids is similar to that of liquids. Due to the differences in the arrangement of the constituent particles, the two types of solids differ in their properties.\n",
      "\n",
      "Crystalline solids have a sharp melting point. At a characteristic temperature they melt abruptly and become liquid. On the other hand, amorphous solids soften, melt and start flowing over a range of temperature and can be moulded and blown into various shapes. Amorphous solids have the same structural features as liquids and are conveniently regarded as extremely viscous liquids. They may become crystalline at some temperature. Some glass objects from ancient civilisations are found to become milky in appearance because of some crystallisation. Like liquids, amorphous solids have a tendency to flow, though very slowly. Therefore, sometimes these are called pseudo solids or super cooled liquids.\n",
      "\n",
      "Amorphous solids are isotropic in nature. Their properties such as mechanical strength, refractive index and electrical conductivity, etc., are same in all directions. It is because there is no long range order in them and arrangement of particles is not definite along all the directions. Hence, the overall arrangement becomes equivalent in all directions. Therefore, value of any physical property would be same along any direction. Crystalline solids are anisotropic in nature, that is, some of their physical properties like electrical resistance or refractive index show different values when measured along different directions in the same crystals. This arises from different arrangement of particles in different directions. This is illustrated in Fig. 1.2. This figure shows a simple two dimensional pattern of arrangement of two kinds of atoms. Mechanical property such as resistance to shearing stress might be quite different in two directions indicated in the figure. Deformation in CD direction displaces row which has two different types of atoms while in AB direction rows made of one type of atoms are displaced. The differences between the crystalline solids and amorphous solids are summarised in Table 1.1.\n",
      "\n",
      "\n"
     ]
    }
   ],
   "source": [
    "print(text)"
   ]
  },
  {
   "cell_type": "code",
   "execution_count": null,
   "id": "0ccc6280",
   "metadata": {},
   "outputs": [],
   "source": [
    "!pip install -U spacy"
   ]
  },
  {
   "cell_type": "code",
   "execution_count": 4,
   "id": "c9035c9f",
   "metadata": {},
   "outputs": [
    {
     "name": "stderr",
     "output_type": "stream",
     "text": [
      "c:\\users\\lenovo\\appdata\\local\\programs\\python\\python39\\lib\\site-packages\\tqdm\\auto.py:22: TqdmWarning: IProgress not found. Please update jupyter and ipywidgets. See https://ipywidgets.readthedocs.io/en/stable/user_install.html\n",
      "  from .autonotebook import tqdm as notebook_tqdm\n"
     ]
    }
   ],
   "source": [
    "import spacy\n",
    "from spacy.lang.en.stop_words import STOP_WORDS\n",
    "from string import punctuation"
   ]
  },
  {
   "cell_type": "code",
   "execution_count": null,
   "id": "dd2eb163",
   "metadata": {},
   "outputs": [],
   "source": [
    "!python -m spacy download en"
   ]
  },
  {
   "cell_type": "code",
   "execution_count": 5,
   "id": "5f1bfe4e",
   "metadata": {},
   "outputs": [
    {
     "name": "stdout",
     "output_type": "stream",
     "text": [
      "['other', 'more', 'beforehand', 'several', 'never', 'are', 'still', 'every', 'upon', 'her', 'unless', 'amount', 'throughout', 'through', 'for', 'am', 'our', 'toward', 'full', 'seemed', 'indeed', \"'m\", 'a', 'doing', 'among', 'everything', 'over', 'amongst', 'whither', 'further', 'moreover', 'nobody', 'do', 'move', 'been', 'already', 'become', 'before', 'six', 'mine', 'how', 'afterwards', 'whereupon', 'fifty', 'your', 'of', \"'re\", 'sometime', 'forty', 'may', 'herein', 'on', 'while', 'against', 'himself', 'much', 'nine', 'ten', 'it', 'ca', 'itself', 'becomes', 'former', 'last', 'them', 'same', 'without', 'five', 'get', 'within', 'n’t', '’m', 'up', 'done', 'once', 'nevertheless', 'under', 'in', 'fifteen', 'latterly', 'empty', 'various', 'give', 'onto', 'its', 'an', 'wherever', 'none', 'neither', '’ll', 'than', 'can', 'ours', 'another', 'who', 'else', 'whereby', 'have', 'my', 'since', 'say', 'someone', 'always', 'hers', 'seems', 'about', 'also', 'top', 'whom', 'hence', 'only', 'twelve', 'each', 'must', 'twenty', 'behind', 'or', 'thereafter', 'show', 'eight', 'yourself', 'something', 'wherein', 'no', 'enough', 'hereupon', 'became', 'besides', 'had', 'such', 'almost', 'down', 'whose', 'using', 'with', 'she', 'whatever', 'yourselves', \"'ll\", 'thence', 'noone', 'please', '‘ve', 'this', 'anything', 'least', 'really', 'was', 'next', 'thereupon', 'being', 'hundred', 'nor', 'around', 'formerly', 'until', 'even', 'mostly', 'now', 'then', 'too', 'across', '‘s', 'he', 'often', 'anywhere', 'just', 'four', 'put', 'together', 'towards', 'everyone', 'that', 'whether', 'go', 'any', 'would', 'nowhere', '’ve', 'make', 'whole', 'own', '’s', 're', 'me', 'somewhere', 'otherwise', 'beside', 'will', 'per', 'these', 'n‘t', 'thru', '‘d', \"'ve\", 'however', 'but', 'sometimes', 'though', 'quite', 'somehow', 'yours', 'becoming', 'used', 'we', 'few', 'be', 'you', 'many', 'is', 'some', 'why', 'were', 'keep', 'therein', 'regarding', 'side', 'eleven', 'third', 'yet', 'where', 'everywhere', 'by', 'due', 'beyond', 'cannot', 'themselves', 'during', 'anyone', 'three', 'whoever', 'i', 'did', 'therefore', 'whereas', 'could', 'perhaps', 'between', 'out', 'nothing', 'hereafter', 'both', 'his', 'the', 'less', 'part', 'has', 'so', 'after', 'one', '’re', 'seeming', 'well', 'thereby', 'when', 'because', '‘re', 'at', 'very', 'although', 'two', 'as', 'made', 'him', 'call', 'anyhow', 'all', 'us', '‘m', 'they', \"'d\", 'does', 'there', 'thus', 'take', 'others', 'via', 'their', 'anyway', 'which', 'first', 'herself', 'off', 'into', 'except', 'hereby', 'namely', 'not', 'either', 'bottom', '’d', 'latter', 'along', 'most', 'see', 'those', 'sixty', 'elsewhere', 'seem', 'if', \"'s\", 'name', 'above', 'what', 'rather', 'might', 'alone', 'from', 'whenever', 'to', 'myself', 'should', 'serious', 'again', 'here', 'whence', 'below', '‘ll', 'ever', 'ourselves', 'meanwhile', \"n't\", 'and', 'front', 'whereafter', 'back']\n"
     ]
    }
   ],
   "source": [
    "stopwords=list(STOP_WORDS)\n",
    "nlp=spacy.load(\"en_core_web_sm\")\n",
    "print(stopwords)"
   ]
  },
  {
   "cell_type": "code",
   "execution_count": 6,
   "id": "3c968272",
   "metadata": {},
   "outputs": [],
   "source": [
    "doc=nlp(text)"
   ]
  },
  {
   "cell_type": "code",
   "execution_count": 7,
   "id": "b500b046",
   "metadata": {},
   "outputs": [],
   "source": [
    "tokens=[token.text for token in doc]"
   ]
  },
  {
   "cell_type": "code",
   "execution_count": 8,
   "id": "0eb0f680",
   "metadata": {},
   "outputs": [
    {
     "data": {
      "text/plain": [
       "'!\"#$%&\\'()*+,-./:;<=>?@[\\\\]^_`{|}~\\n'"
      ]
     },
     "execution_count": 8,
     "metadata": {},
     "output_type": "execute_result"
    }
   ],
   "source": [
    "punctuation+='\\n'\n",
    "punctuation"
   ]
  },
  {
   "cell_type": "code",
   "execution_count": 9,
   "id": "91160dc9",
   "metadata": {},
   "outputs": [],
   "source": [
    "word_frequencies={}\n",
    "for word in doc:\n",
    "    if(word.text not in punctuation):\n",
    "        if(word.text not in stopwords):\n",
    "            if(word.text not in word_frequencies.keys()):\n",
    "                word_frequencies[word.text]=1\n",
    "            else:\n",
    "                word_frequencies[word.text]+=1"
   ]
  },
  {
   "cell_type": "code",
   "execution_count": 10,
   "id": "7556c679",
   "metadata": {},
   "outputs": [],
   "source": [
    "max_fq=max(word_frequencies.values())\n",
    "for word in word_frequencies.keys():\n",
    "    word_frequencies[word]/=max_fq"
   ]
  },
  {
   "cell_type": "code",
   "execution_count": 11,
   "id": "362a786a",
   "metadata": {},
   "outputs": [
    {
     "name": "stdout",
     "output_type": "stream",
     "text": [
      "[From our earlier studies, we know that liquids and gases are called fluids because of their ability to flow., The fluidity in both of these states is due to the fact that the molecules are free to move about., On the contrary, the constituent particles in solids have fixed positions and can only oscillate about their mean positions., This explains the rigidity in solids., These properties depend upon the nature of constituent particles and the binding forces operating between them., The correlation between structure and properties helps in the discovery of new solid materials with desired properties., For example, carbon nanotubes are new materials that have potential to provide material that are tougher than steel, lighter than aluminium and have more conductive property than copper., Such materials may play an expanding role in future development of science and society., Some other materials which are expected to play an important role in future are high temperature superconductors, magnetic materials, biodegradable polymers for packaging, biocompliant solids for surgical implants, etc., Thus, the study of this state becomes more important in the present scenario., In this Unit, we shall discuss different possible arrangements of particles resulting in several types of structures and explore why different arrangements of structural units lend different properties to solids., We will also learn how these properties get modified due to the structural imperfections or by the presence of impurities in minute amounts.\n",
      ", In Class XI you have learnt that matter can exist in three states namely, solid, liquid and gas., Under a given set of conditions of temperature and pressure, which of these would be the most stable state of a given substance depends upon the net effect of two opposing factors., These are intermolecular forces which tend to keep the molecules (or atoms or ions) closer, and the thermal energy, which tends to keep them apart by making them move faster., At sufficiently low temperature, the thermal energy is low and intermolecular forces bring them so close that they cling to one another and occupy fixed positions., These can still oscillate about their mean positions and the substance exists in solid state., The following are the characteristic properties of the solid state: (i) They have definite mass, volume and shape., (ii) Intermolecular distances are short., (iii) Intermolecular forces are strong., (iv) Their constituent particles (atoms, molecules or ions) have fixed positions and can only oscillate about their mean positions., (v) They are incompressible and rigid.\n",
      "\n",
      ", Solids can be classified as crystalline or amorphous on the basis of the nature of order present in the arrangement of their constituent particles., A crystalline solid usually consists of a large number of small crystals, each of them having a definite characteristic geometrical shape., The arrangement of constituent particles (atoms, molecules or ions) in a crystal is ordered and repetitive in three dimensions., If we observe the pattern in one region of the crystal, we can predict accurately the position of particles in any other region of the crystal however far they may be from the place of observation., Thus, crystal has a long range order which means that there is a regular pattern of arrangement of particles which repeats itself periodically over the entire crystal., Sodium chloride and quartz are typical examples of crystalline solids., Glass, rubber and many plastics do not form crystals when their liquids solidify on cooling., These are called amorphous solids., The term amorphous comes from the Greek word amorphos, meaning no form., The arrangement of constituent particles (atoms, molecules or ions) in such a solid has only short range order., In such an arrangement, a regular and periodically repeating pattern is observed over short distances only., Regular patterns are scattered and in between the arrangement is disordered., The structures of quartz (crystalline) and quartz glass (amorphous) are shown in Fig., 1.1 (a) and (b) respectively., While the two structures are almost identical, yet in the case of amorphous quartz glass there is no long range order., The structure of amorphous solids is similar to that of liquids., Due to the differences in the arrangement of the constituent particles, the two types of solids differ in their properties.\n",
      "\n",
      ", Crystalline solids have a sharp melting point., At a characteristic temperature they melt abruptly and become liquid., On the other hand, amorphous solids soften, melt and start flowing over a range of temperature and can be moulded and blown into various shapes., Amorphous solids have the same structural features as liquids and are conveniently regarded as extremely viscous liquids., They may become crystalline at some temperature., Some glass objects from ancient civilisations are found to become milky in appearance because of some crystallisation., Like liquids, amorphous solids have a tendency to flow, though very slowly., Therefore, sometimes these are called pseudo solids or super cooled liquids.\n",
      "\n",
      ", Amorphous solids are isotropic in nature., Their properties such as mechanical strength, refractive index and electrical conductivity, etc., are same in all directions., It is because there is no long range order in them and arrangement of particles is not definite along all the directions., Hence, the overall arrangement becomes equivalent in all directions., Therefore, value of any physical property would be same along any direction., Crystalline solids are anisotropic in nature, that is, some of their physical properties like electrical resistance or refractive index show different values when measured along different directions in the same crystals., This arises from different arrangement of particles in different directions., This is illustrated in Fig., 1.2., This figure shows a simple two dimensional pattern of arrangement of two kinds of atoms., Mechanical property such as resistance to shearing stress might be quite different in two directions indicated in the figure., Deformation in CD direction displaces row which has two different types of atoms while in AB direction rows made of one type of atoms are displaced., The differences between the crystalline solids and amorphous solids are summarised in Table 1.1.\n",
      "\n",
      "]\n"
     ]
    }
   ],
   "source": [
    "sentence_tokens = [sent for sent in doc.sents]\n",
    "print(sentence_tokens)"
   ]
  },
  {
   "cell_type": "code",
   "execution_count": 12,
   "id": "b7458ce7",
   "metadata": {},
   "outputs": [
    {
     "data": {
      "text/plain": [
       "{From our earlier studies, we know that liquids and gases are called fluids because of their ability to flow.: 1.0588235294117647,\n",
       " The fluidity in both of these states is due to the fact that the molecules are free to move about.: 0.5882352941176471,\n",
       " On the contrary, the constituent particles in solids have fixed positions and can only oscillate about their mean positions.: 3.411764705882353,\n",
       " This explains the rigidity in solids.: 1.1176470588235294,\n",
       " These properties depend upon the nature of constituent particles and the binding forces operating between them.: 2.2941176470588234,\n",
       " The correlation between structure and properties helps in the discovery of new solid materials with desired properties.: 2.1764705882352944,\n",
       " For example, carbon nanotubes are new materials that have potential to provide material that are tougher than steel, lighter than aluminium and have more conductive property than copper.: 1.2941176470588236,\n",
       " Such materials may play an expanding role in future development of science and society.: 0.8823529411764707,\n",
       " Some other materials which are expected to play an important role in future are high temperature superconductors, magnetic materials, biodegradable polymers for packaging, biocompliant solids for surgical implants, etc.: 3.1176470588235294,\n",
       " Thus, the study of this state becomes more important in the present scenario.: 0.5882352941176471,\n",
       " In this Unit, we shall discuss different possible arrangements of particles resulting in several types of structures and explore why different arrangements of structural units lend different properties to solids.: 4.999999999999999,\n",
       " We will also learn how these properties get modified due to the structural imperfections or by the presence of impurities in minute amounts.: 1.1176470588235294,\n",
       " In Class XI you have learnt that matter can exist in three states namely, solid, liquid and gas.: 0.8235294117647058,\n",
       " Under a given set of conditions of temperature and pressure, which of these would be the most stable state of a given substance depends upon the net effect of two opposing factors.: 1.4705882352941178,\n",
       " These are intermolecular forces which tend to keep the molecules (or atoms or ions) closer, and the thermal energy, which tends to keep them apart by making them move faster.: 1.8823529411764708,\n",
       " At sufficiently low temperature, the thermal energy is low and intermolecular forces bring them so close that they cling to one another and occupy fixed positions.: 2.0,\n",
       " These can still oscillate about their mean positions and the substance exists in solid state.: 1.4705882352941178,\n",
       " The following are the characteristic properties of the solid state: (i) They have definite mass, volume and shape.: 1.7647058823529413,\n",
       " (ii) Intermolecular distances are short.: 0.47058823529411764,\n",
       " (iii) Intermolecular forces are strong.: 0.47058823529411764,\n",
       " (iv) Their constituent particles (atoms, molecules or ions) have fixed positions and can only oscillate about their mean positions.: 3.352941176470588,\n",
       " (v) They are incompressible and rigid.\n",
       " : 0.4117647058823529,\n",
       " Solids can be classified as crystalline or amorphous on the basis of the nature of order present in the arrangement of their constituent particles.: 4.411764705882352,\n",
       " A crystalline solid usually consists of a large number of small crystals, each of them having a definite characteristic geometrical shape.: 1.7647058823529413,\n",
       " The arrangement of constituent particles (atoms, molecules or ions) in a crystal is ordered and repetitive in three dimensions.: 3.176470588235293,\n",
       " If we observe the pattern in one region of the crystal, we can predict accurately the position of particles in any other region of the crystal however far they may be from the place of observation.: 2.1764705882352935,\n",
       " Thus, crystal has a long range order which means that there is a regular pattern of arrangement of particles which repeats itself periodically over the entire crystal.: 3.352941176470588,\n",
       " Sodium chloride and quartz are typical examples of crystalline solids.: 1.7647058823529411,\n",
       " Glass, rubber and many plastics do not form crystals when their liquids solidify on cooling.: 1.1176470588235294,\n",
       " These are called amorphous solids.: 1.7058823529411766,\n",
       " The term amorphous comes from the Greek word amorphos, meaning no form.: 0.9411764705882354,\n",
       " The arrangement of constituent particles (atoms, molecules or ions) in such a solid has only short range order.: 3.823529411764705,\n",
       " In such an arrangement, a regular and periodically repeating pattern is observed over short distances only.: 1.5294117647058825,\n",
       " Regular patterns are scattered and in between the arrangement is disordered.: 0.9411764705882353,\n",
       " The structures of quartz (crystalline) and quartz glass (amorphous) are shown in Fig.: 1.7647058823529413,\n",
       " 1.1 (a) and (b) respectively.: 0.23529411764705882,\n",
       " While the two structures are almost identical, yet in the case of amorphous quartz glass there is no long range order.: 2.0,\n",
       " The structure of amorphous solids is similar to that of liquids.: 2.1176470588235294,\n",
       " Due to the differences in the arrangement of the constituent particles, the two types of solids differ in their properties.\n",
       " : 3.88235294117647,\n",
       " Crystalline solids have a sharp melting point.: 1.5294117647058825,\n",
       " At a characteristic temperature they melt abruptly and become liquid.: 0.823529411764706,\n",
       " On the other hand, amorphous solids soften, melt and start flowing over a range of temperature and can be moulded and blown into various shapes.: 2.705882352941176,\n",
       " Amorphous solids have the same structural features as liquids and are conveniently regarded as extremely viscous liquids.: 2.8235294117647047,\n",
       " They may become crystalline at some temperature.: 0.7058823529411765,\n",
       " Some glass objects from ancient civilisations are found to become milky in appearance because of some crystallisation.: 0.5882352941176471,\n",
       " Like liquids, amorphous solids have a tendency to flow, though very slowly.: 2.2352941176470584,\n",
       " Therefore, sometimes these are called pseudo solids or super cooled liquids.\n",
       " : 2.0,\n",
       " Amorphous solids are isotropic in nature.: 1.8235294117647058,\n",
       " Their properties such as mechanical strength, refractive index and electrical conductivity, etc., are same in all directions.: 1.5294117647058825,\n",
       " It is because there is no long range order in them and arrangement of particles is not definite along all the directions.: 2.6470588235294117,\n",
       " Hence, the overall arrangement becomes equivalent in all directions.: 1.1176470588235294,\n",
       " Therefore, value of any physical property would be same along any direction.: 0.5294117647058824,\n",
       " Crystalline solids are anisotropic in nature, that is, some of their physical properties like electrical resistance or refractive index show different values when measured along different directions in the same crystals.: 4.529411764705882,\n",
       " This arises from different arrangement of particles in different directions.: 2.823529411764706,\n",
       " This is illustrated in Fig.: 0.058823529411764705,\n",
       " 1.2.: 0.058823529411764705,\n",
       " This figure shows a simple two dimensional pattern of arrangement of two kinds of atoms.: 1.6470588235294117,\n",
       " Mechanical property such as resistance to shearing stress might be quite different in two directions indicated in the figure.: 1.5294117647058825,\n",
       " Deformation in CD direction displaces row which has two different types of atoms while in AB direction rows made of one type of atoms are displaced.: 2.176470588235294,\n",
       " The differences between the crystalline solids and amorphous solids are summarised in Table 1.1.\n",
       " : 3.411764705882353}"
      ]
     },
     "execution_count": 12,
     "metadata": {},
     "output_type": "execute_result"
    }
   ],
   "source": [
    "sentence_scores = {}\n",
    "for sent in sentence_tokens:\n",
    "    for word in sent:\n",
    "        if word.text.lower() in word_frequencies.keys():\n",
    "            if sent not in sentence_scores.keys():\n",
    "                sentence_scores[sent] = word_frequencies[word.text.lower()]\n",
    "            else:\n",
    "                sentence_scores[sent] += word_frequencies[word.text.lower()]\n",
    "                \n",
    "sentence_scores"
   ]
  },
  {
   "cell_type": "code",
   "execution_count": 13,
   "id": "8ce4d04c",
   "metadata": {},
   "outputs": [],
   "source": [
    "from heapq import nlargest\n"
   ]
  },
  {
   "cell_type": "code",
   "execution_count": 14,
   "id": "fe6caa16",
   "metadata": {},
   "outputs": [
    {
     "data": {
      "text/plain": [
       "18"
      ]
     },
     "execution_count": 14,
     "metadata": {},
     "output_type": "execute_result"
    }
   ],
   "source": [
    "select_length = int(len(sentence_tokens)*0.3)\n",
    "select_length"
   ]
  },
  {
   "cell_type": "code",
   "execution_count": 15,
   "id": "4ac756ee",
   "metadata": {},
   "outputs": [
    {
     "data": {
      "text/plain": [
       "[In this Unit, we shall discuss different possible arrangements of particles resulting in several types of structures and explore why different arrangements of structural units lend different properties to solids.,\n",
       " Crystalline solids are anisotropic in nature, that is, some of their physical properties like electrical resistance or refractive index show different values when measured along different directions in the same crystals.,\n",
       " Solids can be classified as crystalline or amorphous on the basis of the nature of order present in the arrangement of their constituent particles.,\n",
       " Due to the differences in the arrangement of the constituent particles, the two types of solids differ in their properties.\n",
       " ,\n",
       " The arrangement of constituent particles (atoms, molecules or ions) in such a solid has only short range order.,\n",
       " On the contrary, the constituent particles in solids have fixed positions and can only oscillate about their mean positions.,\n",
       " The differences between the crystalline solids and amorphous solids are summarised in Table 1.1.\n",
       " ,\n",
       " (iv) Their constituent particles (atoms, molecules or ions) have fixed positions and can only oscillate about their mean positions.,\n",
       " Thus, crystal has a long range order which means that there is a regular pattern of arrangement of particles which repeats itself periodically over the entire crystal.,\n",
       " The arrangement of constituent particles (atoms, molecules or ions) in a crystal is ordered and repetitive in three dimensions.,\n",
       " Some other materials which are expected to play an important role in future are high temperature superconductors, magnetic materials, biodegradable polymers for packaging, biocompliant solids for surgical implants, etc.,\n",
       " This arises from different arrangement of particles in different directions.,\n",
       " Amorphous solids have the same structural features as liquids and are conveniently regarded as extremely viscous liquids.,\n",
       " On the other hand, amorphous solids soften, melt and start flowing over a range of temperature and can be moulded and blown into various shapes.,\n",
       " It is because there is no long range order in them and arrangement of particles is not definite along all the directions.,\n",
       " These properties depend upon the nature of constituent particles and the binding forces operating between them.,\n",
       " Like liquids, amorphous solids have a tendency to flow, though very slowly.,\n",
       " The correlation between structure and properties helps in the discovery of new solid materials with desired properties.]"
      ]
     },
     "execution_count": 15,
     "metadata": {},
     "output_type": "execute_result"
    }
   ],
   "source": [
    "summary = nlargest(select_length, sentence_scores, key = sentence_scores.get)\n",
    "summary\n"
   ]
  },
  {
   "cell_type": "code",
   "execution_count": 16,
   "id": "941f03c7",
   "metadata": {},
   "outputs": [],
   "source": [
    "final_summary = [word.text for word in summary]\n",
    "summary = ' '.join(final_summary)"
   ]
  },
  {
   "cell_type": "code",
   "execution_count": 17,
   "id": "72a32948",
   "metadata": {},
   "outputs": [
    {
     "name": "stdout",
     "output_type": "stream",
     "text": [
      "From our earlier studies, we know that liquids and gases are called fluids because of their ability to flow. The fluidity in both of these states is due to the fact that the molecules are free to move about. On the contrary, the constituent particles in solids have fixed positions and can only oscillate about their mean positions. This explains the rigidity in solids. These properties depend upon the nature of constituent particles and the binding forces operating between them. The correlation between structure and properties helps in the discovery of new solid materials with desired properties. For example, carbon nanotubes are new materials that have potential to provide material that are tougher than steel, lighter than aluminium and have more conductive property than copper. Such materials may play an expanding role in future development of science and society. Some other materials which are expected to play an important role in future are high temperature superconductors, magnetic materials, biodegradable polymers for packaging, biocompliant solids for surgical implants, etc. Thus, the study of this state becomes more important in the present scenario. In this Unit, we shall discuss different possible arrangements of particles resulting in several types of structures and explore why different arrangements of structural units lend different properties to solids. We will also learn how these properties get modified due to the structural imperfections or by the presence of impurities in minute amounts.\n",
      "In Class XI you have learnt that matter can exist in three states namely, solid, liquid and gas. Under a given set of conditions of temperature and pressure, which of these would be the most stable state of a given substance depends upon the net effect of two opposing factors. These are intermolecular forces which tend to keep the molecules (or atoms or ions) closer, and the thermal energy, which tends to keep them apart by making them move faster. At sufficiently low temperature, the thermal energy is low and intermolecular forces bring them so close that they cling to one another and occupy fixed positions. These can still oscillate about their mean positions and the substance exists in solid state. The following are the characteristic properties of the solid state: (i) They have definite mass, volume and shape. (ii) Intermolecular distances are short. (iii) Intermolecular forces are strong. (iv) Their constituent particles (atoms, molecules or ions) have fixed positions and can only oscillate about their mean positions. (v) They are incompressible and rigid.\n",
      "\n",
      "Solids can be classified as crystalline or amorphous on the basis of the nature of order present in the arrangement of their constituent particles. A crystalline solid usually consists of a large number of small crystals, each of them having a definite characteristic geometrical shape. The arrangement of constituent particles (atoms, molecules or ions) in a crystal is ordered and repetitive in three dimensions. If we observe the pattern in one region of the crystal, we can predict accurately the position of particles in any other region of the crystal however far they may be from the place of observation. Thus, crystal has a long range order which means that there is a regular pattern of arrangement of particles which repeats itself periodically over the entire crystal. Sodium chloride and quartz are typical examples of crystalline solids. Glass, rubber and many plastics do not form crystals when their liquids solidify on cooling. These are called amorphous solids. The term amorphous comes from the Greek word amorphos, meaning no form.The arrangement of constituent particles (atoms, molecules or ions) in such a solid has only short range order. In such an arrangement, a regular and periodically repeating pattern is observed over short distances only. Regular patterns are scattered and in between the arrangement is disordered. The structures of quartz (crystalline) and quartz glass (amorphous) are shown in Fig. 1.1 (a) and (b) respectively. While the two structures are almost identical, yet in the case of amorphous quartz glass there is no long range order. The structure of amorphous solids is similar to that of liquids. Due to the differences in the arrangement of the constituent particles, the two types of solids differ in their properties.\n",
      "\n",
      "Crystalline solids have a sharp melting point. At a characteristic temperature they melt abruptly and become liquid. On the other hand, amorphous solids soften, melt and start flowing over a range of temperature and can be moulded and blown into various shapes. Amorphous solids have the same structural features as liquids and are conveniently regarded as extremely viscous liquids. They may become crystalline at some temperature. Some glass objects from ancient civilisations are found to become milky in appearance because of some crystallisation. Like liquids, amorphous solids have a tendency to flow, though very slowly. Therefore, sometimes these are called pseudo solids or super cooled liquids.\n",
      "\n",
      "Amorphous solids are isotropic in nature. Their properties such as mechanical strength, refractive index and electrical conductivity, etc., are same in all directions. It is because there is no long range order in them and arrangement of particles is not definite along all the directions. Hence, the overall arrangement becomes equivalent in all directions. Therefore, value of any physical property would be same along any direction. Crystalline solids are anisotropic in nature, that is, some of their physical properties like electrical resistance or refractive index show different values when measured along different directions in the same crystals. This arises from different arrangement of particles in different directions. This is illustrated in Fig. 1.2. This figure shows a simple two dimensional pattern of arrangement of two kinds of atoms. Mechanical property such as resistance to shearing stress might be quite different in two directions indicated in the figure. Deformation in CD direction displaces row which has two different types of atoms while in AB direction rows made of one type of atoms are displaced. The differences between the crystalline solids and amorphous solids are summarised in Table 1.1.\n",
      "\n",
      "\n"
     ]
    }
   ],
   "source": [
    "print(text)"
   ]
  },
  {
   "cell_type": "code",
   "execution_count": 18,
   "id": "0cd3c06d",
   "metadata": {},
   "outputs": [
    {
     "name": "stdout",
     "output_type": "stream",
     "text": [
      "In this Unit, we shall discuss different possible arrangements of particles resulting in several types of structures and explore why different arrangements of structural units lend different properties to solids. Crystalline solids are anisotropic in nature, that is, some of their physical properties like electrical resistance or refractive index show different values when measured along different directions in the same crystals. Solids can be classified as crystalline or amorphous on the basis of the nature of order present in the arrangement of their constituent particles. Due to the differences in the arrangement of the constituent particles, the two types of solids differ in their properties.\n",
      "\n",
      " The arrangement of constituent particles (atoms, molecules or ions) in such a solid has only short range order. On the contrary, the constituent particles in solids have fixed positions and can only oscillate about their mean positions. The differences between the crystalline solids and amorphous solids are summarised in Table 1.1.\n",
      "\n",
      " (iv) Their constituent particles (atoms, molecules or ions) have fixed positions and can only oscillate about their mean positions. Thus, crystal has a long range order which means that there is a regular pattern of arrangement of particles which repeats itself periodically over the entire crystal. The arrangement of constituent particles (atoms, molecules or ions) in a crystal is ordered and repetitive in three dimensions. Some other materials which are expected to play an important role in future are high temperature superconductors, magnetic materials, biodegradable polymers for packaging, biocompliant solids for surgical implants, etc. This arises from different arrangement of particles in different directions. Amorphous solids have the same structural features as liquids and are conveniently regarded as extremely viscous liquids. On the other hand, amorphous solids soften, melt and start flowing over a range of temperature and can be moulded and blown into various shapes. It is because there is no long range order in them and arrangement of particles is not definite along all the directions. These properties depend upon the nature of constituent particles and the binding forces operating between them. Like liquids, amorphous solids have a tendency to flow, though very slowly. The correlation between structure and properties helps in the discovery of new solid materials with desired properties.\n"
     ]
    }
   ],
   "source": [
    "print(summary)"
   ]
  },
  {
   "cell_type": "code",
   "execution_count": null,
   "id": "a9a57ff1",
   "metadata": {},
   "outputs": [],
   "source": []
  }
 ],
 "metadata": {
  "kernelspec": {
   "display_name": "Python 3 (ipykernel)",
   "language": "python",
   "name": "python3"
  },
  "language_info": {
   "codemirror_mode": {
    "name": "ipython",
    "version": 3
   },
   "file_extension": ".py",
   "mimetype": "text/x-python",
   "name": "python",
   "nbconvert_exporter": "python",
   "pygments_lexer": "ipython3",
   "version": "3.9.5"
  }
 },
 "nbformat": 4,
 "nbformat_minor": 5
}
